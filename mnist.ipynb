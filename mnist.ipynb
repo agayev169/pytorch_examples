{
  "nbformat": 4,
  "nbformat_minor": 0,
  "metadata": {
    "colab": {
      "name": "mnist_pytorch.ipynb",
      "provenance": [],
      "include_colab_link": true
    },
    "kernelspec": {
      "name": "python3",
      "display_name": "Python 3"
    },
    "accelerator": "GPU"
  },
  "cells": [
    {
      "cell_type": "markdown",
      "metadata": {
        "id": "view-in-github",
        "colab_type": "text"
      },
      "source": [
        "<a href=\"https://colab.research.google.com/github/agayev169/pytorch_examples/blob/master/mnist.ipynb\" target=\"_parent\"><img src=\"https://colab.research.google.com/assets/colab-badge.svg\" alt=\"Open In Colab\"/></a>"
      ]
    },
    {
      "cell_type": "markdown",
      "metadata": {
        "id": "A309kcPZDkyF",
        "colab_type": "text"
      },
      "source": [
        "## GPU"
      ]
    },
    {
      "cell_type": "code",
      "metadata": {
        "id": "8W8L80Tc6yjV",
        "colab_type": "code",
        "colab": {
          "base_uri": "https://localhost:8080/",
          "height": 323
        },
        "outputId": "573124b0-ee1f-4763-d6e9-a93093fa1bb4"
      },
      "source": [
        "!nvidia-smi"
      ],
      "execution_count": 1,
      "outputs": [
        {
          "output_type": "stream",
          "text": [
            "Fri Dec 27 07:38:55 2019       \n",
            "+-----------------------------------------------------------------------------+\n",
            "| NVIDIA-SMI 440.44       Driver Version: 418.67       CUDA Version: 10.1     |\n",
            "|-------------------------------+----------------------+----------------------+\n",
            "| GPU  Name        Persistence-M| Bus-Id        Disp.A | Volatile Uncorr. ECC |\n",
            "| Fan  Temp  Perf  Pwr:Usage/Cap|         Memory-Usage | GPU-Util  Compute M. |\n",
            "|===============================+======================+======================|\n",
            "|   0  Tesla P100-PCIE...  Off  | 00000000:00:04.0 Off |                    0 |\n",
            "| N/A   38C    P0    28W / 250W |      0MiB / 16280MiB |      0%      Default |\n",
            "+-------------------------------+----------------------+----------------------+\n",
            "                                                                               \n",
            "+-----------------------------------------------------------------------------+\n",
            "| Processes:                                                       GPU Memory |\n",
            "|  GPU       PID   Type   Process name                             Usage      |\n",
            "|=============================================================================|\n",
            "|  No running processes found                                                 |\n",
            "+-----------------------------------------------------------------------------+\n"
          ],
          "name": "stdout"
        }
      ]
    },
    {
      "cell_type": "markdown",
      "metadata": {
        "id": "cxpYPweUDnaD",
        "colab_type": "text"
      },
      "source": [
        "## Imports"
      ]
    },
    {
      "cell_type": "code",
      "metadata": {
        "id": "duw7dg9b565p",
        "colab_type": "code",
        "colab": {}
      },
      "source": [
        "import torch\n",
        "import torch.nn as nn\n",
        "import torch.nn.functional as F\n",
        "import torch.optim as optim\n",
        "from torchvision import datasets, transforms\n",
        "import matplotlib.pyplot as plt\n",
        "import numpy as np"
      ],
      "execution_count": 0,
      "outputs": []
    },
    {
      "cell_type": "markdown",
      "metadata": {
        "id": "NUsYEHi-DpXx",
        "colab_type": "text"
      },
      "source": [
        "## Model"
      ]
    },
    {
      "cell_type": "markdown",
      "metadata": {
        "id": "fm5HfNWyFMM_",
        "colab_type": "text"
      },
      "source": [
        "### Class"
      ]
    },
    {
      "cell_type": "code",
      "metadata": {
        "id": "Niv6MX3g6GDB",
        "colab_type": "code",
        "colab": {}
      },
      "source": [
        "class Model(nn.Module):\n",
        "    def __init__(self):\n",
        "        super(Model, self).__init__()\n",
        "        self.__conv1    = nn.Conv2d(1, 16, 3, 1)\n",
        "        self.__dropout1 = nn.Dropout2d(0.25)\n",
        "        self.__conv2    = nn.Conv2d(16, 32, 2, 1)\n",
        "        self.__dropout2 = nn.Dropout2d(0.25)\n",
        "        self.__fc1      = nn.Linear(6 * 6 * 32, 128)\n",
        "        self.__dropout3 = nn.Dropout(0.25)\n",
        "        self.__fc2      = nn.Linear(128, 10)\n",
        "        self.__dropout4 = nn.Dropout(0.25)\n",
        "\n",
        "    \n",
        "    def forward(self, x):\n",
        "        x = self.__conv1(x)\n",
        "        x = F.relu(x)\n",
        "        x = F.max_pool2d(x, 2)\n",
        "        x = self.__dropout1(x)\n",
        "        x = self.__conv2(x)\n",
        "        x = F.relu(x)\n",
        "        x = F.max_pool2d(x, 2)\n",
        "        x = self.__dropout2(x)\n",
        "        x = torch.flatten(x, 1)\n",
        "        x = self.__fc1(x)\n",
        "        x = self.__dropout3(x)\n",
        "        x = F.relu(x)\n",
        "        x = self.__fc2(x)\n",
        "        x = self.__dropout4(x)\n",
        "        x = F.softmax(x, dim=1)\n",
        "        return x"
      ],
      "execution_count": 0,
      "outputs": []
    },
    {
      "cell_type": "markdown",
      "metadata": {
        "id": "9QsEa-ewIzZK",
        "colab_type": "text"
      },
      "source": [
        "### Test"
      ]
    },
    {
      "cell_type": "code",
      "metadata": {
        "id": "Ewavzt4TI10_",
        "colab_type": "code",
        "colab": {}
      },
      "source": [
        "def test(model, device, test_loader, epoch):\n",
        "    model.eval()\n",
        "    \n",
        "    loss = 0\n",
        "    acc  = 0\n",
        "\n",
        "    with torch.no_grad():\n",
        "        for x, y in test_loader:\n",
        "            x, y = x.to(device), y.to(device)\n",
        "            out = model(x)\n",
        "            loss += F.cross_entropy(out, y, reduction=\"sum\").item()\n",
        "            pred  = out.argmax(dim=1, keepdim=True)\n",
        "            acc  += pred.eq(y.view_as(pred)).sum().item()\n",
        "\n",
        "    loss = loss / len(test_loader.dataset)\n",
        "    acc  = acc  / len(test_loader.dataset)\n",
        "\n",
        "    print(f\"TEST  --- epoch: {epoch:3d} --- loss: {loss:.6f} --- acc: {acc:.6f}\")"
      ],
      "execution_count": 0,
      "outputs": []
    },
    {
      "cell_type": "markdown",
      "metadata": {
        "id": "2BpS4Jj2FOIo",
        "colab_type": "text"
      },
      "source": [
        "### Train"
      ]
    },
    {
      "cell_type": "code",
      "metadata": {
        "id": "Yqj2Vi06FWEz",
        "colab_type": "code",
        "colab": {}
      },
      "source": [
        "def train(model, device, train_loader, test_loader, optimizer, epochs_n):\n",
        "    for epoch in range(epochs_n):\n",
        "        model.train()\n",
        "        \n",
        "        epoch_loss = 0\n",
        "        epoch_acc  = 0\n",
        "\n",
        "        for batch_i, (x, y) in enumerate(train_loader):\n",
        "            x, y = x.to(device), y.to(device)\n",
        "            optimizer.zero_grad()\n",
        "            out = model(x)\n",
        "            loss = F.cross_entropy(out, y)\n",
        "            loss.backward()\n",
        "            optimizer.step()\n",
        "\n",
        "            epoch_loss += F.cross_entropy(out, y, reduction=\"sum\").item()\n",
        "            pred        = out.argmax(dim=1, keepdim=True)\n",
        "            epoch_acc  += pred.eq(y.view_as(pred)).sum().item()\n",
        "\n",
        "        epoch_loss = epoch_loss / len(train_loader.dataset)\n",
        "        epoch_acc  = epoch_acc  / len(train_loader.dataset)\n",
        "\n",
        "        print(f\"TRAIN --- epoch: {(epoch + 1):3d} --- loss: {epoch_loss:.6f} --- acc: {epoch_acc:.6f}\")\n",
        "\n",
        "        test(model, device, test_loader, epoch + 1)"
      ],
      "execution_count": 0,
      "outputs": []
    },
    {
      "cell_type": "markdown",
      "metadata": {
        "id": "iYcINH5LDqw3",
        "colab_type": "text"
      },
      "source": [
        "## Constants"
      ]
    },
    {
      "cell_type": "code",
      "metadata": {
        "id": "mWESTLgk7JGX",
        "colab_type": "code",
        "colab": {}
      },
      "source": [
        "device = \"cuda\" if torch.cuda.is_available() else \"cpu\"\n",
        "batch_size = 32\n",
        "epochs_n   = 10\n",
        "lr         = 0.001"
      ],
      "execution_count": 0,
      "outputs": []
    },
    {
      "cell_type": "markdown",
      "metadata": {
        "id": "T9EMXZECDsl-",
        "colab_type": "text"
      },
      "source": [
        "## Data"
      ]
    },
    {
      "cell_type": "code",
      "metadata": {
        "id": "6WFDr2Q-CipI",
        "colab_type": "code",
        "colab": {}
      },
      "source": [
        "train_loader = torch.utils.data.DataLoader(\n",
        "    datasets.MNIST(\"data/\", train=True, download=True,\n",
        "                  transform=transforms.Compose([\n",
        "                                                transforms.ToTensor(),\n",
        "                                                transforms.Normalize((0.1037,), (0.3081,))\n",
        "                  ])),\n",
        "                  batch_size=batch_size, shuffle=True\n",
        "    )\n",
        "\n",
        "test_loader = torch.utils.data.DataLoader(\n",
        "    datasets.MNIST(\"data/\", train=False, download=True,\n",
        "                  transform=transforms.Compose([\n",
        "                                                transforms.ToTensor(),\n",
        "                                                transforms.Normalize((0.1037,), (0.3081,))\n",
        "                  ])),\n",
        "                  batch_size=batch_size, shuffle=True\n",
        "    )"
      ],
      "execution_count": 0,
      "outputs": []
    },
    {
      "cell_type": "code",
      "metadata": {
        "id": "4XYgnlO1Pwwl",
        "colab_type": "code",
        "colab": {
          "base_uri": "https://localhost:8080/",
          "height": 862
        },
        "outputId": "e9fcdbc5-8ab6-45ab-9f15-c56e680a0b87"
      },
      "source": [
        "idxs = np.random.randint(0, len(train_loader.dataset), 25)\n",
        "data_samples = torch.utils.data.Subset(train_loader.dataset, idxs)\n",
        "\n",
        "fig, ax = plt.subplots(5, 5, figsize=(15, 15))\n",
        "\n",
        "for i in range(len(idxs)):\n",
        "    x, y = data_samples[i]\n",
        "    x = x.numpy().reshape(28, 28)\n",
        "    ax[i // 5, i % 5].imshow(x, cmap=\"gray\")\n",
        "    ax[i // 5, i % 5].set_title(y)\n",
        "    ax[i // 5, i % 5].axis(\"off\")"
      ],
      "execution_count": 8,
      "outputs": [
        {
          "output_type": "display_data",
          "data": {
            "image/png": "[encoded data removed]",
            "text/plain": [
              "<Figure size 1080x1080 with 25 Axes>"
            ]
          },
          "metadata": {
            "tags": []
          }
        }
      ]
    },
    {
      "cell_type": "markdown",
      "metadata": {
        "id": "UTBEA-JCIuKU",
        "colab_type": "text"
      },
      "source": [
        "## Training "
      ]
    },
    {
      "cell_type": "code",
      "metadata": {
        "id": "9LBzFeFJItwT",
        "colab_type": "code",
        "colab": {
          "base_uri": "https://localhost:8080/",
          "height": 377
        },
        "outputId": "3a383c14-6dca-4f59-a53a-1394b3bebb38"
      },
      "source": [
        "model = Model().to(device)\n",
        "opt = optim.Adam(model.parameters(), lr=lr)\n",
        "\n",
        "train(model, device, train_loader, test_loader, opt, epochs_n)"
      ],
      "execution_count": 9,
      "outputs": [
        {
          "output_type": "stream",
          "text": [
            "TRAIN --- epoch:   1 --- loss: 1.716567 --- acc: 0.738433\n",
            "TEST  --- epoch:   1 --- loss: 1.501484 --- acc: 0.959900\n",
            "TRAIN --- epoch:   2 --- loss: 1.653289 --- acc: 0.799517\n",
            "TEST  --- epoch:   2 --- loss: 1.489406 --- acc: 0.971700\n",
            "TRAIN --- epoch:   3 --- loss: 1.646138 --- acc: 0.804350\n",
            "TEST  --- epoch:   3 --- loss: 1.482550 --- acc: 0.978800\n",
            "TRAIN --- epoch:   4 --- loss: 1.642683 --- acc: 0.808450\n",
            "TEST  --- epoch:   4 --- loss: 1.483828 --- acc: 0.977500\n",
            "TRAIN --- epoch:   5 --- loss: 1.638000 --- acc: 0.812500\n",
            "TEST  --- epoch:   5 --- loss: 1.480650 --- acc: 0.980400\n",
            "TRAIN --- epoch:   6 --- loss: 1.639919 --- acc: 0.811000\n",
            "TEST  --- epoch:   6 --- loss: 1.479079 --- acc: 0.982100\n",
            "TRAIN --- epoch:   7 --- loss: 1.637683 --- acc: 0.813050\n",
            "TEST  --- epoch:   7 --- loss: 1.479908 --- acc: 0.980900\n",
            "TRAIN --- epoch:   8 --- loss: 1.636920 --- acc: 0.814500\n",
            "TEST  --- epoch:   8 --- loss: 1.481007 --- acc: 0.979900\n",
            "TRAIN --- epoch:   9 --- loss: 1.633518 --- acc: 0.817133\n",
            "TEST  --- epoch:   9 --- loss: 1.478771 --- acc: 0.982300\n",
            "TRAIN --- epoch:  10 --- loss: 1.633240 --- acc: 0.816700\n",
            "TEST  --- epoch:  10 --- loss: 1.479158 --- acc: 0.981800\n"
          ],
          "name": "stdout"
        }
      ]
    }
  ]
}