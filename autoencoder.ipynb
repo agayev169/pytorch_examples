{
  "nbformat": 4,
  "nbformat_minor": 0,
  "metadata": {
    "colab": {
      "name": "autoencoder_pytorch.ipynb",
      "provenance": [],
      "include_colab_link": true
    },
    "kernelspec": {
      "name": "python3",
      "display_name": "Python 3"
    },
    "accelerator": "GPU"
  },
  "cells": [
    {
      "cell_type": "markdown",
      "metadata": {
        "id": "view-in-github",
        "colab_type": "text"
      },
      "source": [
        "<a href=\"https://colab.research.google.com/github/agayev169/pytorch_examples/blob/master/autoencoder.ipynb\" target=\"_parent\"><img src=\"https://colab.research.google.com/assets/colab-badge.svg\" alt=\"Open In Colab\"/></a>"
      ]
    },
    {
      "cell_type": "markdown",
      "metadata": {
        "id": "FWZzW8u2Kmnb",
        "colab_type": "text"
      },
      "source": [
        "## GPU"
      ]
    },
    {
      "cell_type": "code",
      "metadata": {
        "id": "Hkoyj7DiKeFz",
        "colab_type": "code",
        "colab": {
          "base_uri": "https://localhost:8080/",
          "height": 323
        },
        "outputId": "d6b4fd3d-66de-4e25-8545-9e4f5831808e"
      },
      "source": [
        "!nvidia-smi"
      ],
      "execution_count": 1,
      "outputs": [
        {
          "output_type": "stream",
          "text": [
            "Sat Dec 28 07:29:01 2019       \n",
            "+-----------------------------------------------------------------------------+\n",
            "| NVIDIA-SMI 440.44       Driver Version: 418.67       CUDA Version: 10.1     |\n",
            "|-------------------------------+----------------------+----------------------+\n",
            "| GPU  Name        Persistence-M| Bus-Id        Disp.A | Volatile Uncorr. ECC |\n",
            "| Fan  Temp  Perf  Pwr:Usage/Cap|         Memory-Usage | GPU-Util  Compute M. |\n",
            "|===============================+======================+======================|\n",
            "|   0  Tesla P100-PCIE...  Off  | 00000000:00:04.0 Off |                    0 |\n",
            "| N/A   49C    P0    30W / 250W |      0MiB / 16280MiB |      0%      Default |\n",
            "+-------------------------------+----------------------+----------------------+\n",
            "                                                                               \n",
            "+-----------------------------------------------------------------------------+\n",
            "| Processes:                                                       GPU Memory |\n",
            "|  GPU       PID   Type   Process name                             Usage      |\n",
            "|=============================================================================|\n",
            "|  No running processes found                                                 |\n",
            "+-----------------------------------------------------------------------------+\n"
          ],
          "name": "stdout"
        }
      ]
    },
    {
      "cell_type": "markdown",
      "metadata": {
        "id": "CSIiiXWTKoqu",
        "colab_type": "text"
      },
      "source": [
        "## Imports"
      ]
    },
    {
      "cell_type": "code",
      "metadata": {
        "id": "sDLnCvS_KiXy",
        "colab_type": "code",
        "colab": {}
      },
      "source": [
        "import torch\n",
        "import torch.nn as nn\n",
        "import torch.nn.functional as F\n",
        "import torch.optim as optim\n",
        "from torchvision import datasets, transforms\n",
        "import matplotlib.pyplot as plt\n",
        "import numpy as np"
      ],
      "execution_count": 0,
      "outputs": []
    },
    {
      "cell_type": "markdown",
      "metadata": {
        "id": "0M2F0vQeKqoz",
        "colab_type": "text"
      },
      "source": [
        "## Model"
      ]
    },
    {
      "cell_type": "markdown",
      "metadata": {
        "id": "FvzHNaKQKr2f",
        "colab_type": "text"
      },
      "source": [
        "### Encoder"
      ]
    },
    {
      "cell_type": "code",
      "metadata": {
        "id": "8xX343f7KkEd",
        "colab_type": "code",
        "colab": {}
      },
      "source": [
        "class Encoder(nn.Module):\n",
        "    def __init__(self):\n",
        "        super(Encoder, self).__init__()\n",
        "        self.conv1 = nn.Conv2d(1, 16, 3, 1)\n",
        "        self.conv2 = nn.Conv2d(16, 1, 3, 1)\n",
        "\n",
        "\n",
        "    def forward(self, x):\n",
        "        x = self.conv1(x) # x, 16, 26, 26\n",
        "        x = torch.tanh(x)\n",
        "        x = self.conv2(x) # x, 1, 12, 12\n",
        "        x = torch.tanh(x)\n",
        "        x = F.max_pool2d(x, 2)\n",
        "        return x"
      ],
      "execution_count": 0,
      "outputs": []
    },
    {
      "cell_type": "markdown",
      "metadata": {
        "id": "ppWSpf4TMIBI",
        "colab_type": "text"
      },
      "source": [
        "### Decoder"
      ]
    },
    {
      "cell_type": "code",
      "metadata": {
        "id": "WZnQ0xmtMI_t",
        "colab_type": "code",
        "colab": {}
      },
      "source": [
        "class Decoder(nn.Module):\n",
        "    def __init__(self):\n",
        "        super(Decoder, self).__init__()\n",
        "        self.conv1_t = nn.ConvTranspose2d(1, 16, 3, 2, output_padding=1)\n",
        "        self.conv2_t = nn.ConvTranspose2d(16, 1, 3, 1)\n",
        "\n",
        "\n",
        "    def forward(self, x):\n",
        "        x = self.conv1_t(x) # x, 16, 26, 26\n",
        "        x = torch.tanh(x)\n",
        "        x = self.conv2_t(x) # x, 1, 28, 28\n",
        "        x = torch.sigmoid(x)\n",
        "        return x"
      ],
      "execution_count": 0,
      "outputs": []
    },
    {
      "cell_type": "markdown",
      "metadata": {
        "id": "HjQ5XRMyMUgq",
        "colab_type": "text"
      },
      "source": [
        "### Autoencoder"
      ]
    },
    {
      "cell_type": "code",
      "metadata": {
        "id": "AV4weXsUMW34",
        "colab_type": "code",
        "colab": {}
      },
      "source": [
        "class Autoencoder(nn.Module):\n",
        "    def __init__(self, encoder, decoder):\n",
        "        super(Autoencoder, self).__init__()\n",
        "        self.encoder = encoder\n",
        "        self.decoder = decoder\n",
        "\n",
        "\n",
        "    def forward(self, x):\n",
        "        return self.decoder(self.encoder(x))"
      ],
      "execution_count": 0,
      "outputs": []
    },
    {
      "cell_type": "markdown",
      "metadata": {
        "id": "ZW7IwFPqMwXF",
        "colab_type": "text"
      },
      "source": [
        "### Test"
      ]
    },
    {
      "cell_type": "code",
      "metadata": {
        "id": "7jEPqNXaMxMy",
        "colab_type": "code",
        "colab": {}
      },
      "source": [
        "def test(model, device, test_loader, epoch):\n",
        "    model.eval()\n",
        "    \n",
        "    loss  = 0\n",
        "\n",
        "    with torch.no_grad():\n",
        "        for x, _ in test_loader:\n",
        "            x = x.to(device)\n",
        "            out = model(x)\n",
        "            loss += F.mse_loss(out, x, reduction=\"sum\").item()\n",
        "\n",
        "    loss = loss / len(test_loader.dataset)\n",
        "\n",
        "    print(f\"TEST  --- epoch: {epoch:3d} --- loss: {loss:.6f}\")"
      ],
      "execution_count": 0,
      "outputs": []
    },
    {
      "cell_type": "markdown",
      "metadata": {
        "id": "9XE8P9VwMudb",
        "colab_type": "text"
      },
      "source": [
        "### Train"
      ]
    },
    {
      "cell_type": "code",
      "metadata": {
        "id": "DP9iQYfhNTGI",
        "colab_type": "code",
        "colab": {}
      },
      "source": [
        "def train(model, device, train_loader, test_loader, optimizer, epochs_n):\n",
        "    for epoch in range(epochs_n):\n",
        "        model.train()\n",
        "        \n",
        "        epoch_loss = 0\n",
        "\n",
        "        for batch_i, (x, _) in enumerate(train_loader):\n",
        "            x = x.to(device)\n",
        "            optimizer.zero_grad()\n",
        "            out = model(x)\n",
        "            loss = F.mse_loss(out, x)\n",
        "            loss.backward()\n",
        "            optimizer.step()\n",
        "\n",
        "            epoch_loss += F.mse_loss(out, x, reduction=\"sum\").item()\n",
        "\n",
        "        epoch_loss = epoch_loss / len(train_loader.dataset)\n",
        "\n",
        "        print(f\"TRAIN --- epoch: {(epoch + 1):3d} --- loss: {epoch_loss:.6f}\")\n",
        "\n",
        "        test(model, device, test_loader, epoch + 1)"
      ],
      "execution_count": 0,
      "outputs": []
    },
    {
      "cell_type": "markdown",
      "metadata": {
        "id": "FMAHXMXaOYSf",
        "colab_type": "text"
      },
      "source": [
        "## Constants"
      ]
    },
    {
      "cell_type": "code",
      "metadata": {
        "id": "b63Ho3TNOZSe",
        "colab_type": "code",
        "colab": {}
      },
      "source": [
        "device = \"cuda\" if torch.cuda.is_available() else \"cpu\"\n",
        "batch_size = 32\n",
        "epochs_n   = 10\n",
        "lr         = 0.001"
      ],
      "execution_count": 0,
      "outputs": []
    },
    {
      "cell_type": "markdown",
      "metadata": {
        "id": "GjPkzf0yMr32",
        "colab_type": "text"
      },
      "source": [
        "## Data"
      ]
    },
    {
      "cell_type": "code",
      "metadata": {
        "id": "yWEGvEm1OWy7",
        "colab_type": "code",
        "colab": {}
      },
      "source": [
        "train_loader = torch.utils.data.DataLoader(\n",
        "    datasets.MNIST(\"data/\", train=True, download=True,\n",
        "                  transform=transforms.Compose([\n",
        "                                                transforms.ToTensor(),\n",
        "                                                transforms.Normalize((0.1037,), (0.3081,))\n",
        "                  ])),\n",
        "                  batch_size=batch_size, shuffle=True\n",
        "    )\n",
        "\n",
        "test_loader = torch.utils.data.DataLoader(\n",
        "    datasets.MNIST(\"data/\", train=False, download=True,\n",
        "                  transform=transforms.Compose([\n",
        "                                                transforms.ToTensor(),\n",
        "                                                transforms.Normalize((0.1037,), (0.3081,))\n",
        "                  ])),\n",
        "                  batch_size=batch_size, shuffle=True\n",
        "    )"
      ],
      "execution_count": 0,
      "outputs": []
    },
    {
      "cell_type": "markdown",
      "metadata": {
        "id": "u43P76v2O-R1",
        "colab_type": "text"
      },
      "source": [
        "## Training"
      ]
    },
    {
      "cell_type": "code",
      "metadata": {
        "id": "6bPOY3CmO_Jg",
        "colab_type": "code",
        "colab": {
          "base_uri": "https://localhost:8080/",
          "height": 377
        },
        "outputId": "72522465-4690-4a47-888b-9e62dbe22ac8"
      },
      "source": [
        "encoder = Encoder().to(device)\n",
        "decoder = Decoder().to(device)\n",
        "autoencoder = Autoencoder(encoder, decoder).to(device)\n",
        "\n",
        "opt = optim.Adam(autoencoder.parameters(), lr=lr)\n",
        "\n",
        "train(autoencoder, device, train_loader, test_loader, opt, epochs_n)"
      ],
      "execution_count": 10,
      "outputs": [
        {
          "output_type": "stream",
          "text": [
            "TRAIN --- epoch:   1 --- loss: 389.353023\n",
            "TEST  --- epoch:   1 --- loss: 364.659861\n",
            "TRAIN --- epoch:   2 --- loss: 357.735400\n",
            "TEST  --- epoch:   2 --- loss: 361.966157\n",
            "TRAIN --- epoch:   3 --- loss: 356.092430\n",
            "TEST  --- epoch:   3 --- loss: 360.972494\n",
            "TRAIN --- epoch:   4 --- loss: 355.411884\n",
            "TEST  --- epoch:   4 --- loss: 360.510319\n",
            "TRAIN --- epoch:   5 --- loss: 355.031955\n",
            "TEST  --- epoch:   5 --- loss: 360.264174\n",
            "TRAIN --- epoch:   6 --- loss: 354.801572\n",
            "TEST  --- epoch:   6 --- loss: 360.110915\n",
            "TRAIN --- epoch:   7 --- loss: 354.627943\n",
            "TEST  --- epoch:   7 --- loss: 359.955976\n",
            "TRAIN --- epoch:   8 --- loss: 354.476864\n",
            "TEST  --- epoch:   8 --- loss: 359.883844\n",
            "TRAIN --- epoch:   9 --- loss: 354.224848\n",
            "TEST  --- epoch:   9 --- loss: 359.527745\n",
            "TRAIN --- epoch:  10 --- loss: 354.032031\n",
            "TEST  --- epoch:  10 --- loss: 359.562473\n"
          ],
          "name": "stdout"
        }
      ]
    },
    {
      "cell_type": "markdown",
      "metadata": {
        "id": "LKhqBFoDTD6U",
        "colab_type": "text"
      },
      "source": [
        "## Results"
      ]
    },
    {
      "cell_type": "markdown",
      "metadata": {
        "id": "zlE07WHeYuFE",
        "colab_type": "text"
      },
      "source": [
        "### Encoding"
      ]
    },
    {
      "cell_type": "code",
      "metadata": {
        "id": "iOzHsBVLTCfr",
        "colab_type": "code",
        "colab": {
          "base_uri": "https://localhost:8080/",
          "height": 846
        },
        "outputId": "52ca0f77-8ca0-4092-8a4d-75b3d3c2bcd7"
      },
      "source": [
        "idxs = np.random.randint(0, len(train_loader.dataset), 5)\n",
        "data_samples = torch.utils.data.Subset(train_loader.dataset, idxs)\n",
        "\n",
        "fig, ax = plt.subplots(5, 2, figsize=(6, 15))\n",
        "\n",
        "for i in range(len(idxs)):\n",
        "    x, _ = data_samples[i]\n",
        "\n",
        "    out = autoencoder(x.view(1, 1, 28, 28).to(device))\n",
        "    out = out.to(\"cpu\")\n",
        "    out = out.detach().numpy().reshape(28, 28)\n",
        "    ax[i, 0].imshow(out, cmap=\"gray\")\n",
        "    ax[i, 0].axis(\"off\")\n",
        "\n",
        "    x = x.numpy().reshape(28, 28)\n",
        "    ax[i, 1].imshow(x, cmap=\"gray\")\n",
        "    ax[i, 1].axis(\"off\")"
      ],
      "execution_count": 11,
      "outputs": [
        {
          "output_type": "display_data",
          "data": {
            "image/png": "[encoded data removed]",
            "text/plain": [
              "<Figure size 432x1080 with 10 Axes>"
            ]
          },
          "metadata": {
            "tags": []
          }
        }
      ]
    }
  ]
}